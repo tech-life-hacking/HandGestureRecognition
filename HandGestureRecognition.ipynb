{
 "cells": [
  {
   "cell_type": "code",
   "execution_count": 1,
   "source": [
    "import numpy as np\n",
    "import glob\n",
    "import tensorflow as tf\n",
    "from tensorflow import keras\n",
    "import zipfile"
   ],
   "outputs": [
    {
     "output_type": "stream",
     "name": "stderr",
     "text": [
      "2021-09-11 02:03:46.226400: W tensorflow/stream_executor/platform/default/dso_loader.cc:64] Could not load dynamic library 'libcudart.so.11.0'; dlerror: libcudart.so.11.0: cannot open shared object file: No such file or directory\n",
      "2021-09-11 02:03:46.226417: I tensorflow/stream_executor/cuda/cudart_stub.cc:29] Ignore above cudart dlerror if you do not have a GPU set up on your machine.\n"
     ]
    }
   ],
   "metadata": {}
  },
  {
   "cell_type": "code",
   "execution_count": 5,
   "source": [
    "with zipfile.ZipFile('HAND.zip') as existing_zip:\n",
    "    existing_zip.extractall()"
   ],
   "outputs": [],
   "metadata": {}
  },
  {
   "cell_type": "code",
   "execution_count": 2,
   "source": [
    "def get_train_data(path, class_names):\n",
    "    datalists = []\n",
    "    datalabellists = []\n",
    "    for i, classname in enumerate(class_names):\n",
    "        tmplist = []\n",
    "        for csvfile in glob.glob(path+str(classname)+'/*.csv'):\n",
    "            tmp = np.loadtxt(csvfile, delimiter=',', dtype='float64')\n",
    "            tmplist.append(tmp)\n",
    "        datalist = np.concatenate(tmplist)\n",
    "        datalists.append(datalist)\n",
    "        datalabellist = np.full(datalist.shape[0], i)\n",
    "        print(len(datalabellist))\n",
    "        datalabellists.append(datalabellist)\n",
    "    train_data = np.concatenate(datalists)\n",
    "    train_labels = np.concatenate(datalabellists)\n",
    "    return train_data, train_labels"
   ],
   "outputs": [],
   "metadata": {}
  },
  {
   "cell_type": "code",
   "execution_count": 3,
   "source": [
    "def save_model(model, path):\n",
    "    converter = tf.lite.TFLiteConverter.from_keras_model(model)\n",
    "    tflite_model = converter.convert()\n",
    "    with open(path, 'wb') as f:\n",
    "        f.write(tflite_model)"
   ],
   "outputs": [],
   "metadata": {}
  },
  {
   "cell_type": "code",
   "execution_count": 4,
   "source": [
    "class_names = ['LEFTFINGER', 'LEFTOK', 'LEFTPAPER', 'LEFTSCISSORS', 'LEFTSTONE', 'RIGHTFINGER', 'RIGHTOK', 'RIGHTPAPER', 'RIGHTSCISSORS', 'RIGHTSTONE']"
   ],
   "outputs": [],
   "metadata": {}
  },
  {
   "cell_type": "code",
   "execution_count": 5,
   "source": [
    "train_data, train_labels = get_train_data('./HAND/', class_names)"
   ],
   "outputs": [
    {
     "output_type": "stream",
     "name": "stdout",
     "text": [
      "748\n",
      "1340\n",
      "1170\n",
      "1300\n",
      "840\n",
      "810\n",
      "1090\n",
      "1060\n",
      "1798\n",
      "1139\n"
     ]
    }
   ],
   "metadata": {}
  },
  {
   "cell_type": "code",
   "execution_count": 6,
   "source": [
    "model = keras.Sequential([\n",
    "    keras.layers.Flatten(input_shape=(42, 1)),\n",
    "    keras.layers.Dense(21, activation='relu'),\n",
    "    keras.layers.Dense(len(class_names), activation='softmax')\n",
    "])"
   ],
   "outputs": [],
   "metadata": {}
  },
  {
   "cell_type": "code",
   "execution_count": 7,
   "source": [
    "model.compile(optimizer='adam', \n",
    "              loss='sparse_categorical_crossentropy',\n",
    "              metrics=['accuracy'])"
   ],
   "outputs": [],
   "metadata": {}
  },
  {
   "cell_type": "code",
   "execution_count": 8,
   "source": [
    "model.fit(train_data, train_labels, epochs=5)"
   ],
   "outputs": [
    {
     "output_type": "stream",
     "name": "stdout",
     "text": [
      "Epoch 1/5\n",
      "353/353 [==============================] - 1s 816us/step - loss: 1.8969 - accuracy: 0.3758\n",
      "Epoch 2/5\n",
      "353/353 [==============================] - 0s 848us/step - loss: 0.5216 - accuracy: 0.9619\n",
      "Epoch 3/5\n",
      "353/353 [==============================] - 0s 888us/step - loss: 0.2129 - accuracy: 0.9801\n",
      "Epoch 4/5\n",
      "353/353 [==============================] - 0s 881us/step - loss: 0.1239 - accuracy: 0.9843\n",
      "Epoch 5/5\n",
      "353/353 [==============================] - 0s 847us/step - loss: 0.0898 - accuracy: 0.9858\n"
     ]
    },
    {
     "output_type": "execute_result",
     "data": {
      "text/plain": [
       "<tensorflow.python.keras.callbacks.History at 0x7f379013d160>"
      ]
     },
     "metadata": {},
     "execution_count": 8
    }
   ],
   "metadata": {}
  },
  {
   "cell_type": "code",
   "execution_count": 9,
   "source": [
    "save_model(model, '/home/hands.tflite')"
   ],
   "outputs": [
    {
     "output_type": "stream",
     "name": "stdout",
     "text": [
      "INFO:tensorflow:Assets written to: /tmp/tmpoisq81am/assets\n"
     ]
    }
   ],
   "metadata": {}
  },
  {
   "cell_type": "code",
   "execution_count": null,
   "source": [],
   "outputs": [],
   "metadata": {}
  }
 ],
 "metadata": {
  "orig_nbformat": 4,
  "language_info": {
   "name": "python",
   "version": "3.8.10",
   "mimetype": "text/x-python",
   "codemirror_mode": {
    "name": "ipython",
    "version": 3
   },
   "pygments_lexer": "ipython3",
   "nbconvert_exporter": "python",
   "file_extension": ".py"
  },
  "kernelspec": {
   "name": "python3",
   "display_name": "Python 3.8.10 64-bit"
  },
  "interpreter": {
   "hash": "e7370f93d1d0cde622a1f8e1c04877d8463912d04d973331ad4851f04de6915a"
  }
 },
 "nbformat": 4,
 "nbformat_minor": 2
}